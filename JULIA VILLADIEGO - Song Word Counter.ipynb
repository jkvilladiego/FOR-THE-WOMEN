{
 "cells": [
  {
   "cell_type": "code",
   "execution_count": 7,
   "metadata": {},
   "outputs": [
    {
     "name": "stdout",
     "output_type": "stream",
     "text": [
      "{'Baby': 4, 'shark': 20, 'doo': 108, 'Mommy': 4, 'Daddy': 4, 'Grandma': 4, 'Grandpa': 4, 'Let’s': 4, 'go': 4, 'hunt': 4}\n"
     ]
    }
   ],
   "source": [
    "# Create a program that lists all of the unique words in a song and displays the count of each unique word\n",
    "# Example: “hey hey yo yo awesome”\n",
    "# Output:\n",
    "# hey, 2\n",
    "# yo, 2\n",
    "# awesome, 1\n",
    "\n",
    "def song_word_count(str):\n",
    "    counts = dict()\n",
    "    words = str.split()\n",
    "    \n",
    "    for word in words:\n",
    "        if word in counts:\n",
    "            counts[word] += 1\n",
    "        else:\n",
    "            counts[word] = 1\n",
    "            \n",
    "    return counts\n",
    "\n",
    "print(song_word_count(\"\"\"Baby shark doo doo doo doo doo doo\n",
    "Baby shark doo doo doo doo doo doo\n",
    "Baby shark doo doo doo doo doo doo\n",
    "Baby shark\n",
    "\n",
    "Mommy shark doo doo doo doo doo doo\n",
    "Mommy shark doo doo doo doo doo doo\n",
    "Mommy shark doo doo doo doo doo doo\n",
    "Mommy shark\n",
    "\n",
    "Daddy shark doo doo doo doo doo doo\n",
    "Daddy shark doo doo doo doo doo doo\n",
    "Daddy shark doo doo doo doo doo doo\n",
    "Daddy shark\n",
    "\n",
    "Grandma shark doo doo doo doo doo doo\n",
    "Grandma shark doo doo doo doo doo doo\n",
    "Grandma shark doo doo doo doo doo doo\n",
    "Grandma shark\n",
    "\n",
    "Grandpa shark doo doo doo doo doo doo\n",
    "Grandpa shark doo doo doo doo doo doo\n",
    "Grandpa shark doo doo doo doo doo doo\n",
    "Grandpa shark\n",
    "\n",
    "Let’s go hunt doo doo doo doo doo doo\n",
    "Let’s go hunt doo doo doo doo doo doo\n",
    "Let’s go hunt doo doo doo doo doo doo\n",
    "Let’s go hunt\"\"\"))\n",
    "\n",
    "# Next time I need know how to ignore punctuation marks like comma and exclamation mark"
   ]
  },
  {
   "cell_type": "code",
   "execution_count": null,
   "metadata": {},
   "outputs": [],
   "source": []
  },
  {
   "cell_type": "code",
   "execution_count": null,
   "metadata": {},
   "outputs": [],
   "source": []
  }
 ],
 "metadata": {
  "kernelspec": {
   "display_name": "Python 3",
   "language": "python",
   "name": "python3"
  },
  "language_info": {
   "codemirror_mode": {
    "name": "ipython",
    "version": 3
   },
   "file_extension": ".py",
   "mimetype": "text/x-python",
   "name": "python",
   "nbconvert_exporter": "python",
   "pygments_lexer": "ipython3",
   "version": "3.7.4"
  }
 },
 "nbformat": 4,
 "nbformat_minor": 2
}
